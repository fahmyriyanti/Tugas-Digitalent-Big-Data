{
 "cells": [
  {
   "cell_type": "markdown",
   "metadata": {},
   "source": [
    "# REGRESI LINEAR"
   ]
  },
  {
   "cell_type": "code",
   "execution_count": 1,
   "metadata": {},
   "outputs": [
    {
     "data": {
      "text/html": [
       "        <script type=\"text/javascript\">\n",
       "        window.PlotlyConfig = {MathJaxConfig: 'local'};\n",
       "        if (window.MathJax) {MathJax.Hub.Config({SVG: {font: \"STIX-Web\"}});}\n",
       "        if (typeof require !== 'undefined') {\n",
       "        require.undef(\"plotly\");\n",
       "        requirejs.config({\n",
       "            paths: {\n",
       "                'plotly': ['https://cdn.plot.ly/plotly-latest.min']\n",
       "            }\n",
       "        });\n",
       "        require(['plotly'], function(Plotly) {\n",
       "            window._Plotly = Plotly;\n",
       "        });\n",
       "        }\n",
       "        </script>\n",
       "        "
      ]
     },
     "metadata": {},
     "output_type": "display_data"
    }
   ],
   "source": [
    "import numpy as np \n",
    "import pandas as pd\n",
    "import matplotlib.pyplot as plt\n",
    "import seaborn as sns\n",
    "import plotly as py\n",
    "import plotly.express as px\n",
    "import plotly.graph_objs as go\n",
    "from plotly.subplots import make_subplots\n",
    "from plotly.offline import download_plotlyjs, init_notebook_mode, plot, iplot\n",
    "from wordcloud import WordCloud\n",
    "\n",
    "import statsmodels\n",
    "import patsy\n",
    "import statsmodels.api as sm\n",
    "import matplotlib.pyplot as plt\n",
    "\n",
    "init_notebook_mode(connected=True) \n",
    "\n",
    "import warnings\n",
    "warnings.filterwarnings('ignore')\n",
    "\n",
    "import csv\n",
    "import numpy as np\n",
    "from sklearn.linear_model import LinearRegression\n",
    "from sklearn.model_selection import train_test_split\n",
    "from sklearn import metrics"
   ]
  },
  {
   "cell_type": "code",
   "execution_count": 5,
   "metadata": {},
   "outputs": [
    {
     "name": "stdout",
     "output_type": "stream",
     "text": [
      "    vendor name     Model Name  MYCT  MMIN   MMAX  CACH  CHMIN  CHMAX  PRP  \\\n",
      "0       adviser          32/60   125   256   6000   256     16    128  198   \n",
      "1        amdahl         470v/7    29  8000  32000    32      8     32  269   \n",
      "2        amdahl        470v/7a    29  8000  32000    32      8     32  220   \n",
      "3        amdahl        470v/7b    29  8000  32000    32      8     32  172   \n",
      "4        amdahl        470v/7c    29  8000  16000    32      8     16  132   \n",
      "..          ...            ...   ...   ...    ...   ...    ...    ...  ...   \n",
      "204      sperry           80/8   124  1000   8000     0      1      8   42   \n",
      "205      sperry  90/80-model-3    98  1000   8000    32      2      8   46   \n",
      "206      sratus             32   125  2000   8000     0      2     14   52   \n",
      "207        wang         vs-100   480   512   8000    32      0      0   67   \n",
      "208        wang          vs-90   480  1000   4000     0      0      0   45   \n",
      "\n",
      "     ERP  \n",
      "0    199  \n",
      "1    253  \n",
      "2    253  \n",
      "3    253  \n",
      "4    132  \n",
      "..   ...  \n",
      "204   37  \n",
      "205   50  \n",
      "206   41  \n",
      "207   47  \n",
      "208   25  \n",
      "\n",
      "[209 rows x 10 columns]\n"
     ]
    }
   ],
   "source": [
    "data = pd.read_csv(\"computer_hardwere.csv\",sep=\",\")\n",
    "print(data)\n"
   ]
  },
  {
   "cell_type": "code",
   "execution_count": 6,
   "metadata": {},
   "outputs": [],
   "source": [
    "data_x =['MYCT','MMIN','MMAX','CACH','CHMIN','CHMAX']\n",
    "X = data[data_x]\n",
    "Y = data.PRP"
   ]
  },
  {
   "cell_type": "code",
   "execution_count": 7,
   "metadata": {},
   "outputs": [
    {
     "name": "stdout",
     "output_type": "stream",
     "text": [
      "<class 'pandas.core.frame.DataFrame'>\n",
      "RangeIndex: 209 entries, 0 to 208\n",
      "Data columns (total 10 columns):\n",
      "vendor name    209 non-null object\n",
      "Model Name     209 non-null object\n",
      "MYCT           209 non-null int64\n",
      "MMIN           209 non-null int64\n",
      "MMAX           209 non-null int64\n",
      "CACH           209 non-null int64\n",
      "CHMIN          209 non-null int64\n",
      "CHMAX          209 non-null int64\n",
      "PRP            209 non-null int64\n",
      "ERP            209 non-null int64\n",
      "dtypes: int64(8), object(2)\n",
      "memory usage: 16.5+ KB\n"
     ]
    }
   ],
   "source": [
    "data.info()"
   ]
  },
  {
   "cell_type": "code",
   "execution_count": 78,
   "metadata": {},
   "outputs": [
    {
     "data": {
      "text/html": [
       "<div>\n",
       "<style scoped>\n",
       "    .dataframe tbody tr th:only-of-type {\n",
       "        vertical-align: middle;\n",
       "    }\n",
       "\n",
       "    .dataframe tbody tr th {\n",
       "        vertical-align: top;\n",
       "    }\n",
       "\n",
       "    .dataframe thead th {\n",
       "        text-align: right;\n",
       "    }\n",
       "</style>\n",
       "<table border=\"1\" class=\"dataframe\">\n",
       "  <thead>\n",
       "    <tr style=\"text-align: right;\">\n",
       "      <th></th>\n",
       "      <th>vendor name</th>\n",
       "      <th>Model Name</th>\n",
       "      <th>MYCT</th>\n",
       "      <th>MMIN</th>\n",
       "      <th>MMAX</th>\n",
       "      <th>CACH</th>\n",
       "      <th>CHMIN</th>\n",
       "      <th>CHMAX</th>\n",
       "      <th>PRP</th>\n",
       "      <th>ERP</th>\n",
       "    </tr>\n",
       "  </thead>\n",
       "  <tbody>\n",
       "    <tr>\n",
       "      <th>0</th>\n",
       "      <td>adviser</td>\n",
       "      <td>32/60</td>\n",
       "      <td>125</td>\n",
       "      <td>256</td>\n",
       "      <td>6000</td>\n",
       "      <td>256</td>\n",
       "      <td>16</td>\n",
       "      <td>128</td>\n",
       "      <td>198</td>\n",
       "      <td>199</td>\n",
       "    </tr>\n",
       "    <tr>\n",
       "      <th>1</th>\n",
       "      <td>amdahl</td>\n",
       "      <td>470v/7</td>\n",
       "      <td>29</td>\n",
       "      <td>8000</td>\n",
       "      <td>32000</td>\n",
       "      <td>32</td>\n",
       "      <td>8</td>\n",
       "      <td>32</td>\n",
       "      <td>269</td>\n",
       "      <td>253</td>\n",
       "    </tr>\n",
       "    <tr>\n",
       "      <th>2</th>\n",
       "      <td>amdahl</td>\n",
       "      <td>470v/7a</td>\n",
       "      <td>29</td>\n",
       "      <td>8000</td>\n",
       "      <td>32000</td>\n",
       "      <td>32</td>\n",
       "      <td>8</td>\n",
       "      <td>32</td>\n",
       "      <td>220</td>\n",
       "      <td>253</td>\n",
       "    </tr>\n",
       "    <tr>\n",
       "      <th>3</th>\n",
       "      <td>amdahl</td>\n",
       "      <td>470v/7b</td>\n",
       "      <td>29</td>\n",
       "      <td>8000</td>\n",
       "      <td>32000</td>\n",
       "      <td>32</td>\n",
       "      <td>8</td>\n",
       "      <td>32</td>\n",
       "      <td>172</td>\n",
       "      <td>253</td>\n",
       "    </tr>\n",
       "    <tr>\n",
       "      <th>4</th>\n",
       "      <td>amdahl</td>\n",
       "      <td>470v/7c</td>\n",
       "      <td>29</td>\n",
       "      <td>8000</td>\n",
       "      <td>16000</td>\n",
       "      <td>32</td>\n",
       "      <td>8</td>\n",
       "      <td>16</td>\n",
       "      <td>132</td>\n",
       "      <td>132</td>\n",
       "    </tr>\n",
       "  </tbody>\n",
       "</table>\n",
       "</div>"
      ],
      "text/plain": [
       "  vendor name Model Name  MYCT  MMIN   MMAX  CACH  CHMIN  CHMAX  PRP  ERP\n",
       "0     adviser      32/60   125   256   6000   256     16    128  198  199\n",
       "1      amdahl     470v/7    29  8000  32000    32      8     32  269  253\n",
       "2      amdahl    470v/7a    29  8000  32000    32      8     32  220  253\n",
       "3      amdahl    470v/7b    29  8000  32000    32      8     32  172  253\n",
       "4      amdahl    470v/7c    29  8000  16000    32      8     16  132  132"
      ]
     },
     "execution_count": 78,
     "metadata": {},
     "output_type": "execute_result"
    }
   ],
   "source": [
    "data.head()"
   ]
  },
  {
   "cell_type": "code",
   "execution_count": 6,
   "metadata": {},
   "outputs": [
    {
     "data": {
      "text/html": [
       "<div>\n",
       "<style scoped>\n",
       "    .dataframe tbody tr th:only-of-type {\n",
       "        vertical-align: middle;\n",
       "    }\n",
       "\n",
       "    .dataframe tbody tr th {\n",
       "        vertical-align: top;\n",
       "    }\n",
       "\n",
       "    .dataframe thead th {\n",
       "        text-align: right;\n",
       "    }\n",
       "</style>\n",
       "<table border=\"1\" class=\"dataframe\">\n",
       "  <thead>\n",
       "    <tr style=\"text-align: right;\">\n",
       "      <th></th>\n",
       "      <th>count</th>\n",
       "      <th>mean</th>\n",
       "      <th>std</th>\n",
       "      <th>min</th>\n",
       "      <th>25%</th>\n",
       "      <th>50%</th>\n",
       "      <th>75%</th>\n",
       "      <th>max</th>\n",
       "    </tr>\n",
       "  </thead>\n",
       "  <tbody>\n",
       "    <tr>\n",
       "      <th>MYCT</th>\n",
       "      <td>209.0</td>\n",
       "      <td>203.822967</td>\n",
       "      <td>260.262926</td>\n",
       "      <td>17.0</td>\n",
       "      <td>50.0</td>\n",
       "      <td>110.0</td>\n",
       "      <td>225.0</td>\n",
       "      <td>1500.0</td>\n",
       "    </tr>\n",
       "    <tr>\n",
       "      <th>MMIN</th>\n",
       "      <td>209.0</td>\n",
       "      <td>2867.980861</td>\n",
       "      <td>3878.742758</td>\n",
       "      <td>64.0</td>\n",
       "      <td>768.0</td>\n",
       "      <td>2000.0</td>\n",
       "      <td>4000.0</td>\n",
       "      <td>32000.0</td>\n",
       "    </tr>\n",
       "    <tr>\n",
       "      <th>MMAX</th>\n",
       "      <td>209.0</td>\n",
       "      <td>11796.153110</td>\n",
       "      <td>11726.564377</td>\n",
       "      <td>64.0</td>\n",
       "      <td>4000.0</td>\n",
       "      <td>8000.0</td>\n",
       "      <td>16000.0</td>\n",
       "      <td>64000.0</td>\n",
       "    </tr>\n",
       "    <tr>\n",
       "      <th>CACH</th>\n",
       "      <td>209.0</td>\n",
       "      <td>25.205742</td>\n",
       "      <td>40.628722</td>\n",
       "      <td>0.0</td>\n",
       "      <td>0.0</td>\n",
       "      <td>8.0</td>\n",
       "      <td>32.0</td>\n",
       "      <td>256.0</td>\n",
       "    </tr>\n",
       "    <tr>\n",
       "      <th>CHMIN</th>\n",
       "      <td>209.0</td>\n",
       "      <td>4.698565</td>\n",
       "      <td>6.816274</td>\n",
       "      <td>0.0</td>\n",
       "      <td>1.0</td>\n",
       "      <td>2.0</td>\n",
       "      <td>6.0</td>\n",
       "      <td>52.0</td>\n",
       "    </tr>\n",
       "    <tr>\n",
       "      <th>CHMAX</th>\n",
       "      <td>209.0</td>\n",
       "      <td>18.267943</td>\n",
       "      <td>25.997318</td>\n",
       "      <td>0.0</td>\n",
       "      <td>5.0</td>\n",
       "      <td>8.0</td>\n",
       "      <td>24.0</td>\n",
       "      <td>176.0</td>\n",
       "    </tr>\n",
       "    <tr>\n",
       "      <th>PRP</th>\n",
       "      <td>209.0</td>\n",
       "      <td>105.622010</td>\n",
       "      <td>160.830733</td>\n",
       "      <td>6.0</td>\n",
       "      <td>27.0</td>\n",
       "      <td>50.0</td>\n",
       "      <td>113.0</td>\n",
       "      <td>1150.0</td>\n",
       "    </tr>\n",
       "    <tr>\n",
       "      <th>ERP</th>\n",
       "      <td>209.0</td>\n",
       "      <td>99.330144</td>\n",
       "      <td>154.757102</td>\n",
       "      <td>15.0</td>\n",
       "      <td>28.0</td>\n",
       "      <td>45.0</td>\n",
       "      <td>101.0</td>\n",
       "      <td>1238.0</td>\n",
       "    </tr>\n",
       "  </tbody>\n",
       "</table>\n",
       "</div>"
      ],
      "text/plain": [
       "       count          mean           std   min     25%     50%      75%  \\\n",
       "MYCT   209.0    203.822967    260.262926  17.0    50.0   110.0    225.0   \n",
       "MMIN   209.0   2867.980861   3878.742758  64.0   768.0  2000.0   4000.0   \n",
       "MMAX   209.0  11796.153110  11726.564377  64.0  4000.0  8000.0  16000.0   \n",
       "CACH   209.0     25.205742     40.628722   0.0     0.0     8.0     32.0   \n",
       "CHMIN  209.0      4.698565      6.816274   0.0     1.0     2.0      6.0   \n",
       "CHMAX  209.0     18.267943     25.997318   0.0     5.0     8.0     24.0   \n",
       "PRP    209.0    105.622010    160.830733   6.0    27.0    50.0    113.0   \n",
       "ERP    209.0     99.330144    154.757102  15.0    28.0    45.0    101.0   \n",
       "\n",
       "           max  \n",
       "MYCT    1500.0  \n",
       "MMIN   32000.0  \n",
       "MMAX   64000.0  \n",
       "CACH     256.0  \n",
       "CHMIN     52.0  \n",
       "CHMAX    176.0  \n",
       "PRP     1150.0  \n",
       "ERP     1238.0  "
      ]
     },
     "execution_count": 6,
     "metadata": {},
     "output_type": "execute_result"
    }
   ],
   "source": [
    "data.describe().T"
   ]
  },
  {
   "cell_type": "code",
   "execution_count": 8,
   "metadata": {},
   "outputs": [
    {
     "data": {
      "image/png": "[encoded data removed]",
      "text/plain": [
       "<Figure size 432x288 with 1 Axes>"
      ]
     },
     "metadata": {
      "needs_background": "light"
     },
     "output_type": "display_data"
    }
   ],
   "source": [
    "plt.scatter( data['MYCT'],data['PRP'], color='blue',alpha=.5)\n",
    "plt.title('PRP Vs MYCT', fontsize=14)\n",
    "plt.xlabel('MYCT', fontsize=14)\n",
    "plt.ylabel('prp', fontsize=14)\n",
    "plt.grid(True)\n",
    "plt.show()"
   ]
  },
  {
   "cell_type": "markdown",
   "metadata": {},
   "source": [
    "Berdasarkan hasil sebaran data prp semakin meningkat saat myct bernilai rendah yang mengindikasikan terdapat korelasi disimpulkan dengan MYCT"
   ]
  },
  {
   "cell_type": "code",
   "execution_count": 10,
   "metadata": {},
   "outputs": [
    {
     "data": {
      "image/png": "[encoded data removed]",
      "text/plain": [
       "<Figure size 432x288 with 1 Axes>"
      ]
     },
     "metadata": {
      "needs_background": "light"
     },
     "output_type": "display_data"
    }
   ],
   "source": [
    "plt.scatter(data['MMIN'],data['PRP'], color='red',alpha=.5)\n",
    "plt.title('PRP Vs MMIN', fontsize=14)\n",
    "plt.xlabel('MMIN', fontsize=14)\n",
    "plt.ylabel('prp', fontsize=14)\n",
    "plt.grid(True)\n",
    "plt.show()"
   ]
  },
  {
   "cell_type": "markdown",
   "metadata": {},
   "source": [
    "Berdasarkan hasil sebaran data terdapat kecenderungan korelasi positif "
   ]
  },
  {
   "cell_type": "code",
   "execution_count": 9,
   "metadata": {},
   "outputs": [
    {
     "data": {
      "image/png": "[encoded data removed]",
      "text/plain": [
       "<Figure size 432x288 with 1 Axes>"
      ]
     },
     "metadata": {
      "needs_background": "light"
     },
     "output_type": "display_data"
    }
   ],
   "source": [
    "plt.scatter( data['MMAX'],data['PRP'], color='black',alpha=.5)\n",
    "plt.title('PRP Vs MMAX', fontsize=14)\n",
    "plt.xlabel('MMAX', fontsize=14)\n",
    "plt.ylabel('prp', fontsize=14)\n",
    "plt.grid(True)\n",
    "plt.show()"
   ]
  },
  {
   "cell_type": "markdown",
   "metadata": {},
   "source": [
    "Berdasarkan hasil sebaran data terdapat kecenderungan korelasi positif "
   ]
  },
  {
   "cell_type": "code",
   "execution_count": 21,
   "metadata": {},
   "outputs": [
    {
     "data": {
      "image/png": "[encoded data removed]",
      "text/plain": [
       "<Figure size 432x288 with 1 Axes>"
      ]
     },
     "metadata": {
      "needs_background": "light"
     },
     "output_type": "display_data"
    }
   ],
   "source": [
    "plt.scatter( data['CACH'],data['PRP'], color='green',alpha=.5)\n",
    "plt.title('PRP Vs CACH', fontsize=14)\n",
    "plt.xlabel('CACH', fontsize=14)\n",
    "plt.ylabel('prp', fontsize=14)\n",
    "plt.grid(True)\n",
    "plt.show()"
   ]
  },
  {
   "cell_type": "markdown",
   "metadata": {},
   "source": [
    "Berdasarkan hasil sebaran data terdapat kecenderungan korelasi positif "
   ]
  },
  {
   "cell_type": "code",
   "execution_count": 22,
   "metadata": {},
   "outputs": [
    {
     "data": {
      "image/png": "[encoded data removed]",
      "text/plain": [
       "<Figure size 432x288 with 1 Axes>"
      ]
     },
     "metadata": {
      "needs_background": "light"
     },
     "output_type": "display_data"
    }
   ],
   "source": [
    "plt.scatter( data['CHMIN'],data['PRP'], color='yellow',alpha=.5)\n",
    "plt.title('PRP Vs CHMIN', fontsize=14)\n",
    "plt.xlabel('CHMIN', fontsize=14)\n",
    "plt.ylabel('PRP', fontsize=14)\n",
    "plt.grid(True)\n",
    "plt.show()"
   ]
  },
  {
   "cell_type": "markdown",
   "metadata": {},
   "source": [
    "Berdasarkan hasil sebaran data terdapat kecenderungan korelasi positif "
   ]
  },
  {
   "cell_type": "code",
   "execution_count": 23,
   "metadata": {},
   "outputs": [
    {
     "data": {
      "image/png": "[encoded data removed]",
      "text/plain": [
       "<Figure size 432x288 with 1 Axes>"
      ]
     },
     "metadata": {
      "needs_background": "light"
     },
     "output_type": "display_data"
    }
   ],
   "source": [
    "plt.scatter(data['CHMAX'],data['PRP'], color='red',alpha=.5)\n",
    "plt.title('PRP Vs CHMAX', fontsize=14)\n",
    "plt.xlabel('CHMAX', fontsize=14)\n",
    "plt.ylabel('PRP', fontsize=14)\n",
    "plt.grid(True)\n",
    "plt.show()"
   ]
  },
  {
   "cell_type": "markdown",
   "metadata": {},
   "source": [
    "Berdasarkan hasil sebaran data terdapat kecenderungan korelasi positif "
   ]
  },
  {
   "cell_type": "markdown",
   "metadata": {},
   "source": [
    "# Estimasi Model Regresi"
   ]
  },
  {
   "cell_type": "code",
   "execution_count": 15,
   "metadata": {},
   "outputs": [
    {
     "name": "stdout",
     "output_type": "stream",
     "text": [
      "RMSE =  56.53513460262522\n",
      "R Square: 0.8624393939262729\n",
      "intercept: -64.85461147016818\n",
      "slope: [ 0.05658504  0.01592189  0.006252    0.51810482 -0.57507068  1.46969039]\n"
     ]
    },
    {
     "data": {
      "text/html": [
       "<div>\n",
       "<style scoped>\n",
       "    .dataframe tbody tr th:only-of-type {\n",
       "        vertical-align: middle;\n",
       "    }\n",
       "\n",
       "    .dataframe tbody tr th {\n",
       "        vertical-align: top;\n",
       "    }\n",
       "\n",
       "    .dataframe thead th {\n",
       "        text-align: right;\n",
       "    }\n",
       "</style>\n",
       "<table border=\"1\" class=\"dataframe\">\n",
       "  <thead>\n",
       "    <tr style=\"text-align: right;\">\n",
       "      <th></th>\n",
       "      <th>Coefficient</th>\n",
       "    </tr>\n",
       "  </thead>\n",
       "  <tbody>\n",
       "    <tr>\n",
       "      <th>MYCT</th>\n",
       "      <td>0.056585</td>\n",
       "    </tr>\n",
       "    <tr>\n",
       "      <th>MMIN</th>\n",
       "      <td>0.015922</td>\n",
       "    </tr>\n",
       "    <tr>\n",
       "      <th>MMAX</th>\n",
       "      <td>0.006252</td>\n",
       "    </tr>\n",
       "    <tr>\n",
       "      <th>CACH</th>\n",
       "      <td>0.518105</td>\n",
       "    </tr>\n",
       "    <tr>\n",
       "      <th>CHMIN</th>\n",
       "      <td>-0.575071</td>\n",
       "    </tr>\n",
       "    <tr>\n",
       "      <th>CHMAX</th>\n",
       "      <td>1.469690</td>\n",
       "    </tr>\n",
       "  </tbody>\n",
       "</table>\n",
       "</div>"
      ],
      "text/plain": [
       "       Coefficient\n",
       "MYCT      0.056585\n",
       "MMIN      0.015922\n",
       "MMAX      0.006252\n",
       "CACH      0.518105\n",
       "CHMIN    -0.575071\n",
       "CHMAX     1.469690"
      ]
     },
     "execution_count": 15,
     "metadata": {},
     "output_type": "execute_result"
    },
    {
     "data": {
      "image/png": "[encoded data removed]",
      "text/plain": [
       "<Figure size 432x288 with 1 Axes>"
      ]
     },
     "metadata": {
      "needs_background": "light"
     },
     "output_type": "display_data"
    }
   ],
   "source": [
    "X_train, X_test, y_train, y_test = train_test_split(X,Y,random_state=1)\n",
    "model =LinearRegression()\n",
    "\n",
    "model.fit(X_train,y_train)\n",
    "\n",
    "y_pred=model.predict( X_test)\n",
    "plt.scatter(y_test,y_pred)\n",
    "RMSE = np.sqrt(metrics.mean_squared_error(y_test,y_pred))\n",
    "print('RMSE = ',RMSE)\n",
    "r_sq = model.score(X, Y)\n",
    "intercept = model.intercept_\n",
    "coef = model.coef_\n",
    "print('R Square:', r_sq)\n",
    "print('intercept:', intercept)\n",
    "print('slope:',coef)\n",
    "pd.DataFrame(data=model.coef_, index=X.columns, columns=['Coefficient'])"
   ]
  },
  {
   "cell_type": "markdown",
   "metadata": {},
   "source": [
    "# Hasil Regresi"
   ]
  },
  {
   "cell_type": "markdown",
   "metadata": {},
   "source": [
    "1. Berdasarkan hasil regresi didapatkan\n",
    "   CPU Performance = -64,85 + 0.05658504 MYCT + 0.01592189 MMIN +  0.006252 MMAX + 0.51810482 CACH - 0.57507068 CHMIN +  1.46969039 CHMAX\n",
    "        - Saat X1-X6 bernilai 0 maka cpu peformance akan menurun dengan nilai 64,85\n",
    "        -  Saat variabel MYCT sebesar 0.05658504 berarti apabila variabel MYCT mengalami peningkatan sebesar 1 satuan maka akan meningkatkan CPU Performance sebesar 0.05658504 satuan dengan asumsi bahwa variabel lainnya dianggap nol atau konstan. \n",
    "        - Saat variabel MMIN sebesar 0.01592189 berarti apabila variabel MMIN mengalami peningkatan sebesar 1 satuan maka akan meningkatkan CPU Performance sebesar 0.01592189 satuan dengan asumsi bahwa variabel lainnya dianggap nol atau konstan.\n",
    "        - Saat variabel MMAX sebesar  0.006252 berarti apabila variabel MMAX mengalami peningkatan sebesar 1 satuan maka akan meningkatkan CPU Performance sebesar  0.006252 satuan dengan asumsi bahwa variabel lainnya dianggap nol atau konstan.\n",
    "        - Saat variabel CACH sebesar 0.5181048 berarti apabila variabel CACH mengalami peningkatan sebesar 1 satuan maka akan meningkatkan CPU Performance sebesar 0.5181048 satuan dengan asumsi bahwa variabel lainnya dianggap nol atau konstan.\n",
    "        - Saat variabel CHMIN sebesar -0.57507068 berarti apabila variabel CHMIN mengalami penurunan sebesar 1 satuan maka akan menurunkan CPU Performance sebesar -0.57507068 satuan dengan asumsi bahwa variabel lainnya dianggap nol atau konstan.\n",
    "        - Saat variabel CHMAX sebesar 1.46969039 berarti apabila variabel CHMAX mengalami peningkatan sebesar 1 satuan maka akan meningkatkan CPU Performance sebesar 1.46969039 satuan dengan asumsi bahwa variabel lainnya dianggap nol atau konstan.\n",
    "\n"
   ]
  },
  {
   "cell_type": "code",
   "execution_count": null,
   "metadata": {},
   "outputs": [],
   "source": []
  }
 ],
 "metadata": {
  "kernelspec": {
   "display_name": "Python 3",
   "language": "python",
   "name": "python3"
  },
  "language_info": {
   "codemirror_mode": {
    "name": "ipython",
    "version": 3
   },
   "file_extension": ".py",
   "mimetype": "text/x-python",
   "name": "python",
   "nbconvert_exporter": "python",
   "pygments_lexer": "ipython3",
   "version": "3.7.3"
  }
 },
 "nbformat": 4,
 "nbformat_minor": 2
}
